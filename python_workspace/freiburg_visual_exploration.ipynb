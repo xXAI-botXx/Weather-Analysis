{
 "cells": [
  {
   "cell_type": "markdown",
   "metadata": {},
   "source": [
    "# **Visual Weather Analysis** from Location Freiburg in Germany"
   ]
  },
  {
   "cell_type": "markdown",
   "metadata": {},
   "source": [
    "### Imports"
   ]
  },
  {
   "cell_type": "code",
   "execution_count": 39,
   "metadata": {},
   "outputs": [],
   "source": [
    "import numpy as np\n",
    "import pandas as pd\n",
    "\n",
    "import plotly_express as px"
   ]
  },
  {
   "cell_type": "markdown",
   "metadata": {},
   "source": [
    "### Data Loading & Wrangling"
   ]
  },
  {
   "cell_type": "code",
   "execution_count": 40,
   "metadata": {},
   "outputs": [
    {
     "data": {
      "text/html": [
       "<div>\n",
       "<style scoped>\n",
       "    .dataframe tbody tr th:only-of-type {\n",
       "        vertical-align: middle;\n",
       "    }\n",
       "\n",
       "    .dataframe tbody tr th {\n",
       "        vertical-align: top;\n",
       "    }\n",
       "\n",
       "    .dataframe thead th {\n",
       "        text-align: right;\n",
       "    }\n",
       "</style>\n",
       "<table border=\"1\" class=\"dataframe\">\n",
       "  <thead>\n",
       "    <tr style=\"text-align: right;\">\n",
       "      <th></th>\n",
       "      <th>dt</th>\n",
       "      <th>dt_iso</th>\n",
       "      <th>timezone</th>\n",
       "      <th>city_name</th>\n",
       "      <th>lat</th>\n",
       "      <th>lon</th>\n",
       "      <th>temp</th>\n",
       "      <th>visibility</th>\n",
       "      <th>dew_point</th>\n",
       "      <th>feels_like</th>\n",
       "      <th>...</th>\n",
       "      <th>wind_gust</th>\n",
       "      <th>rain_1h</th>\n",
       "      <th>rain_3h</th>\n",
       "      <th>snow_1h</th>\n",
       "      <th>snow_3h</th>\n",
       "      <th>clouds_all</th>\n",
       "      <th>weather_id</th>\n",
       "      <th>weather_main</th>\n",
       "      <th>weather_description</th>\n",
       "      <th>weather_icon</th>\n",
       "    </tr>\n",
       "  </thead>\n",
       "  <tbody>\n",
       "    <tr>\n",
       "      <th>0</th>\n",
       "      <td>946684800</td>\n",
       "      <td>2000-01-01 00:00:00 +0000 UTC</td>\n",
       "      <td>3600</td>\n",
       "      <td>Freiburg im Breisgau</td>\n",
       "      <td>47.999008</td>\n",
       "      <td>7.842104</td>\n",
       "      <td>1.54</td>\n",
       "      <td>NaN</td>\n",
       "      <td>0.68</td>\n",
       "      <td>-0.10</td>\n",
       "      <td>...</td>\n",
       "      <td>NaN</td>\n",
       "      <td>NaN</td>\n",
       "      <td>NaN</td>\n",
       "      <td>NaN</td>\n",
       "      <td>NaN</td>\n",
       "      <td>93</td>\n",
       "      <td>804</td>\n",
       "      <td>Clouds</td>\n",
       "      <td>overcast clouds</td>\n",
       "      <td>04n</td>\n",
       "    </tr>\n",
       "    <tr>\n",
       "      <th>1</th>\n",
       "      <td>946688400</td>\n",
       "      <td>2000-01-01 01:00:00 +0000 UTC</td>\n",
       "      <td>3600</td>\n",
       "      <td>Freiburg im Breisgau</td>\n",
       "      <td>47.999008</td>\n",
       "      <td>7.842104</td>\n",
       "      <td>1.64</td>\n",
       "      <td>NaN</td>\n",
       "      <td>0.78</td>\n",
       "      <td>1.64</td>\n",
       "      <td>...</td>\n",
       "      <td>NaN</td>\n",
       "      <td>NaN</td>\n",
       "      <td>NaN</td>\n",
       "      <td>NaN</td>\n",
       "      <td>NaN</td>\n",
       "      <td>95</td>\n",
       "      <td>804</td>\n",
       "      <td>Clouds</td>\n",
       "      <td>overcast clouds</td>\n",
       "      <td>04n</td>\n",
       "    </tr>\n",
       "  </tbody>\n",
       "</table>\n",
       "<p>2 rows × 28 columns</p>\n",
       "</div>"
      ],
      "text/plain": [
       "          dt                         dt_iso  timezone             city_name  \\\n",
       "0  946684800  2000-01-01 00:00:00 +0000 UTC      3600  Freiburg im Breisgau   \n",
       "1  946688400  2000-01-01 01:00:00 +0000 UTC      3600  Freiburg im Breisgau   \n",
       "\n",
       "         lat       lon  temp  visibility  dew_point  feels_like  ...  \\\n",
       "0  47.999008  7.842104  1.54         NaN       0.68       -0.10  ...   \n",
       "1  47.999008  7.842104  1.64         NaN       0.78        1.64  ...   \n",
       "\n",
       "   wind_gust  rain_1h  rain_3h  snow_1h  snow_3h  clouds_all  weather_id  \\\n",
       "0        NaN      NaN      NaN      NaN      NaN          93         804   \n",
       "1        NaN      NaN      NaN      NaN      NaN          95         804   \n",
       "\n",
       "   weather_main  weather_description  weather_icon  \n",
       "0        Clouds      overcast clouds           04n  \n",
       "1        Clouds      overcast clouds           04n  \n",
       "\n",
       "[2 rows x 28 columns]"
      ]
     },
     "execution_count": 40,
     "metadata": {},
     "output_type": "execute_result"
    }
   ],
   "source": [
    "df = pd.read_csv(\"../data/weather/Freiburg_im_Breisgau_Wetter.csv\")\n",
    "old_rows = df.shape[0]\n",
    "df.head(2)"
   ]
  },
  {
   "cell_type": "code",
   "execution_count": 41,
   "metadata": {},
   "outputs": [
    {
     "name": "stdout",
     "output_type": "stream",
     "text": [
      "<class 'pandas.core.frame.DataFrame'>\n",
      "RangeIndex: 194326 entries, 0 to 194325\n",
      "Data columns (total 28 columns):\n",
      " #   Column               Non-Null Count   Dtype  \n",
      "---  ------               --------------   -----  \n",
      " 0   dt                   194326 non-null  int64  \n",
      " 1   dt_iso               194326 non-null  object \n",
      " 2   timezone             194326 non-null  int64  \n",
      " 3   city_name            194326 non-null  object \n",
      " 4   lat                  194326 non-null  float64\n",
      " 5   lon                  194326 non-null  float64\n",
      " 6   temp                 194326 non-null  float64\n",
      " 7   visibility           1174 non-null    float64\n",
      " 8   dew_point            194326 non-null  float64\n",
      " 9   feels_like           194326 non-null  float64\n",
      " 10  temp_min             194326 non-null  float64\n",
      " 11  temp_max             194326 non-null  float64\n",
      " 12  pressure             194326 non-null  int64  \n",
      " 13  sea_level            0 non-null       float64\n",
      " 14  grnd_level           0 non-null       float64\n",
      " 15  humidity             194326 non-null  int64  \n",
      " 16  wind_speed           194326 non-null  float64\n",
      " 17  wind_deg             194326 non-null  int64  \n",
      " 18  wind_gust            20020 non-null   float64\n",
      " 19  rain_1h              43586 non-null   float64\n",
      " 20  rain_3h              31 non-null      float64\n",
      " 21  snow_1h              2545 non-null    float64\n",
      " 22  snow_3h              0 non-null       float64\n",
      " 23  clouds_all           194326 non-null  int64  \n",
      " 24  weather_id           194326 non-null  int64  \n",
      " 25  weather_main         194326 non-null  object \n",
      " 26  weather_description  194326 non-null  object \n",
      " 27  weather_icon         194326 non-null  object \n",
      "dtypes: float64(16), int64(7), object(5)\n",
      "memory usage: 41.5+ MB\n"
     ]
    }
   ],
   "source": [
    "df.info()"
   ]
  },
  {
   "cell_type": "code",
   "execution_count": 42,
   "metadata": {},
   "outputs": [
    {
     "data": {
      "text/plain": [
       "array([   nan,  9000., 10000.,   100.,  8000.,  6000.,  7000.,   600.,\n",
       "         500.,  4500.,   200.,   400.,  5000.,  2500.])"
      ]
     },
     "execution_count": 42,
     "metadata": {},
     "output_type": "execute_result"
    }
   ],
   "source": [
    "df['visibility'].unique()"
   ]
  },
  {
   "cell_type": "code",
   "execution_count": 43,
   "metadata": {},
   "outputs": [
    {
     "data": {
      "text/plain": [
       "9000.0     965\n",
       "10000.0    183\n",
       "100.0        6\n",
       "8000.0       6\n",
       "6000.0       4\n",
       "7000.0       3\n",
       "600.0        1\n",
       "500.0        1\n",
       "4500.0       1\n",
       "200.0        1\n",
       "400.0        1\n",
       "5000.0       1\n",
       "2500.0       1\n",
       "Name: visibility, dtype: int64"
      ]
     },
     "execution_count": 43,
     "metadata": {},
     "output_type": "execute_result"
    }
   ],
   "source": [
    "df['visibility'].value_counts()"
   ]
  },
  {
   "cell_type": "markdown",
   "metadata": {},
   "source": [
    "drop columns with to many nan values"
   ]
  },
  {
   "cell_type": "code",
   "execution_count": 44,
   "metadata": {},
   "outputs": [
    {
     "data": {
      "text/plain": [
       "dt                          0\n",
       "dt_iso                      0\n",
       "timezone                    0\n",
       "city_name                   0\n",
       "lat                         0\n",
       "lon                         0\n",
       "temp                        0\n",
       "visibility             193152\n",
       "dew_point                   0\n",
       "feels_like                  0\n",
       "temp_min                    0\n",
       "temp_max                    0\n",
       "pressure                    0\n",
       "sea_level              194326\n",
       "grnd_level             194326\n",
       "humidity                    0\n",
       "wind_speed                  0\n",
       "wind_deg                    0\n",
       "wind_gust              174306\n",
       "rain_1h                150740\n",
       "rain_3h                194295\n",
       "snow_1h                191781\n",
       "snow_3h                194326\n",
       "clouds_all                  0\n",
       "weather_id                  0\n",
       "weather_main                0\n",
       "weather_description         0\n",
       "weather_icon                0\n",
       "dtype: int64"
      ]
     },
     "execution_count": 44,
     "metadata": {},
     "output_type": "execute_result"
    }
   ],
   "source": [
    "df.isna().sum()"
   ]
  },
  {
   "cell_type": "code",
   "execution_count": 45,
   "metadata": {},
   "outputs": [],
   "source": [
    "df = df.drop(columns=['visibility', 'sea_level', 'grnd_level', 'wind_gust', 'rain_1h', 'rain_3h', 'snow_1h', 'snow_3h'])"
   ]
  },
  {
   "cell_type": "code",
   "execution_count": 46,
   "metadata": {},
   "outputs": [
    {
     "data": {
      "text/plain": [
       "dt                     0\n",
       "dt_iso                 0\n",
       "timezone               0\n",
       "city_name              0\n",
       "lat                    0\n",
       "lon                    0\n",
       "temp                   0\n",
       "dew_point              0\n",
       "feels_like             0\n",
       "temp_min               0\n",
       "temp_max               0\n",
       "pressure               0\n",
       "humidity               0\n",
       "wind_speed             0\n",
       "wind_deg               0\n",
       "clouds_all             0\n",
       "weather_id             0\n",
       "weather_main           0\n",
       "weather_description    0\n",
       "weather_icon           0\n",
       "dtype: int64"
      ]
     },
     "execution_count": 46,
     "metadata": {},
     "output_type": "execute_result"
    }
   ],
   "source": [
    "df.isna().sum()"
   ]
  },
  {
   "cell_type": "markdown",
   "metadata": {},
   "source": [
    "drop / change rest of columns"
   ]
  },
  {
   "cell_type": "code",
   "execution_count": 47,
   "metadata": {},
   "outputs": [
    {
     "data": {
      "text/plain": [
       "Index(['dt', 'dt_iso', 'timezone', 'city_name', 'lat', 'lon', 'temp',\n",
       "       'dew_point', 'feels_like', 'temp_min', 'temp_max', 'pressure',\n",
       "       'humidity', 'wind_speed', 'wind_deg', 'clouds_all', 'weather_id',\n",
       "       'weather_main', 'weather_description', 'weather_icon'],\n",
       "      dtype='object')"
      ]
     },
     "execution_count": 47,
     "metadata": {},
     "output_type": "execute_result"
    }
   ],
   "source": [
    "df.columns"
   ]
  },
  {
   "cell_type": "code",
   "execution_count": 48,
   "metadata": {},
   "outputs": [],
   "source": [
    "df.drop(columns=['dt', 'timezone', 'city_name', 'lat', 'lon'], inplace=True)"
   ]
  },
  {
   "cell_type": "code",
   "execution_count": 49,
   "metadata": {},
   "outputs": [
    {
     "data": {
      "text/html": [
       "<div>\n",
       "<style scoped>\n",
       "    .dataframe tbody tr th:only-of-type {\n",
       "        vertical-align: middle;\n",
       "    }\n",
       "\n",
       "    .dataframe tbody tr th {\n",
       "        vertical-align: top;\n",
       "    }\n",
       "\n",
       "    .dataframe thead th {\n",
       "        text-align: right;\n",
       "    }\n",
       "</style>\n",
       "<table border=\"1\" class=\"dataframe\">\n",
       "  <thead>\n",
       "    <tr style=\"text-align: right;\">\n",
       "      <th></th>\n",
       "      <th>dt_iso</th>\n",
       "    </tr>\n",
       "  </thead>\n",
       "  <tbody>\n",
       "    <tr>\n",
       "      <th>0</th>\n",
       "      <td>2000-01-01 00:00:00</td>\n",
       "    </tr>\n",
       "    <tr>\n",
       "      <th>1</th>\n",
       "      <td>2000-01-01 01:00:00</td>\n",
       "    </tr>\n",
       "    <tr>\n",
       "      <th>2</th>\n",
       "      <td>2000-01-01 02:00:00</td>\n",
       "    </tr>\n",
       "    <tr>\n",
       "      <th>3</th>\n",
       "      <td>2000-01-01 03:00:00</td>\n",
       "    </tr>\n",
       "  </tbody>\n",
       "</table>\n",
       "</div>"
      ],
      "text/plain": [
       "                dt_iso\n",
       "0  2000-01-01 00:00:00\n",
       "1  2000-01-01 01:00:00\n",
       "2  2000-01-01 02:00:00\n",
       "3  2000-01-01 03:00:00"
      ]
     },
     "execution_count": 49,
     "metadata": {},
     "output_type": "execute_result"
    }
   ],
   "source": [
    "# remove UTC by date\n",
    "df['dt_iso'] = df['dt_iso'].replace(\"\\s*\\+.*UTC\", \"\", regex=True)\n",
    "df.loc[:3, ['dt_iso']]"
   ]
  },
  {
   "cell_type": "code",
   "execution_count": 50,
   "metadata": {},
   "outputs": [
    {
     "data": {
      "text/plain": [
       "0"
      ]
     },
     "execution_count": 50,
     "metadata": {},
     "output_type": "execute_result"
    }
   ],
   "source": [
    "df.dt_iso.isna().sum()"
   ]
  },
  {
   "cell_type": "code",
   "execution_count": 51,
   "metadata": {},
   "outputs": [],
   "source": [
    "df[['date', 'time']] = df['dt_iso'].str.split(\" \", 1, expand=True)\n",
    "df.drop(columns=['dt_iso'], inplace=True)\n",
    "#df['time'] = pd.to_datetime(df['time'])\n",
    "#df['date'] = pd.to_datetime(df['date'])"
   ]
  },
  {
   "cell_type": "code",
   "execution_count": 52,
   "metadata": {},
   "outputs": [
    {
     "data": {
      "text/html": [
       "<div>\n",
       "<style scoped>\n",
       "    .dataframe tbody tr th:only-of-type {\n",
       "        vertical-align: middle;\n",
       "    }\n",
       "\n",
       "    .dataframe tbody tr th {\n",
       "        vertical-align: top;\n",
       "    }\n",
       "\n",
       "    .dataframe thead th {\n",
       "        text-align: right;\n",
       "    }\n",
       "</style>\n",
       "<table border=\"1\" class=\"dataframe\">\n",
       "  <thead>\n",
       "    <tr style=\"text-align: right;\">\n",
       "      <th></th>\n",
       "      <th>temp</th>\n",
       "      <th>dew_point</th>\n",
       "      <th>feels_like</th>\n",
       "      <th>temp_min</th>\n",
       "      <th>temp_max</th>\n",
       "      <th>pressure</th>\n",
       "      <th>humidity</th>\n",
       "      <th>wind_speed</th>\n",
       "      <th>wind_deg</th>\n",
       "      <th>clouds_all</th>\n",
       "      <th>weather_id</th>\n",
       "      <th>weather_main</th>\n",
       "      <th>weather_description</th>\n",
       "      <th>weather_icon</th>\n",
       "      <th>date</th>\n",
       "      <th>time</th>\n",
       "    </tr>\n",
       "  </thead>\n",
       "  <tbody>\n",
       "    <tr>\n",
       "      <th>0</th>\n",
       "      <td>1.54</td>\n",
       "      <td>0.68</td>\n",
       "      <td>-0.10</td>\n",
       "      <td>1.42</td>\n",
       "      <td>1.87</td>\n",
       "      <td>1026</td>\n",
       "      <td>94</td>\n",
       "      <td>1.57</td>\n",
       "      <td>168</td>\n",
       "      <td>93</td>\n",
       "      <td>804</td>\n",
       "      <td>Clouds</td>\n",
       "      <td>overcast clouds</td>\n",
       "      <td>04n</td>\n",
       "      <td>2000-01-01</td>\n",
       "      <td>00:00:00</td>\n",
       "    </tr>\n",
       "    <tr>\n",
       "      <th>1</th>\n",
       "      <td>1.64</td>\n",
       "      <td>0.78</td>\n",
       "      <td>1.64</td>\n",
       "      <td>1.52</td>\n",
       "      <td>1.97</td>\n",
       "      <td>1026</td>\n",
       "      <td>94</td>\n",
       "      <td>1.21</td>\n",
       "      <td>163</td>\n",
       "      <td>95</td>\n",
       "      <td>804</td>\n",
       "      <td>Clouds</td>\n",
       "      <td>overcast clouds</td>\n",
       "      <td>04n</td>\n",
       "      <td>2000-01-01</td>\n",
       "      <td>01:00:00</td>\n",
       "    </tr>\n",
       "    <tr>\n",
       "      <th>2</th>\n",
       "      <td>1.14</td>\n",
       "      <td>0.28</td>\n",
       "      <td>-0.62</td>\n",
       "      <td>0.82</td>\n",
       "      <td>2.07</td>\n",
       "      <td>1026</td>\n",
       "      <td>94</td>\n",
       "      <td>1.61</td>\n",
       "      <td>163</td>\n",
       "      <td>95</td>\n",
       "      <td>804</td>\n",
       "      <td>Clouds</td>\n",
       "      <td>overcast clouds</td>\n",
       "      <td>04n</td>\n",
       "      <td>2000-01-01</td>\n",
       "      <td>02:00:00</td>\n",
       "    </tr>\n",
       "    <tr>\n",
       "      <th>3</th>\n",
       "      <td>1.24</td>\n",
       "      <td>0.53</td>\n",
       "      <td>-0.57</td>\n",
       "      <td>0.92</td>\n",
       "      <td>2.17</td>\n",
       "      <td>1026</td>\n",
       "      <td>95</td>\n",
       "      <td>1.66</td>\n",
       "      <td>163</td>\n",
       "      <td>95</td>\n",
       "      <td>804</td>\n",
       "      <td>Clouds</td>\n",
       "      <td>overcast clouds</td>\n",
       "      <td>04n</td>\n",
       "      <td>2000-01-01</td>\n",
       "      <td>03:00:00</td>\n",
       "    </tr>\n",
       "    <tr>\n",
       "      <th>4</th>\n",
       "      <td>1.61</td>\n",
       "      <td>0.90</td>\n",
       "      <td>0.07</td>\n",
       "      <td>1.52</td>\n",
       "      <td>1.90</td>\n",
       "      <td>1026</td>\n",
       "      <td>95</td>\n",
       "      <td>1.51</td>\n",
       "      <td>159</td>\n",
       "      <td>99</td>\n",
       "      <td>804</td>\n",
       "      <td>Clouds</td>\n",
       "      <td>overcast clouds</td>\n",
       "      <td>04n</td>\n",
       "      <td>2000-01-01</td>\n",
       "      <td>04:00:00</td>\n",
       "    </tr>\n",
       "  </tbody>\n",
       "</table>\n",
       "</div>"
      ],
      "text/plain": [
       "   temp  dew_point  feels_like  temp_min  temp_max  pressure  humidity  \\\n",
       "0  1.54       0.68       -0.10      1.42      1.87      1026        94   \n",
       "1  1.64       0.78        1.64      1.52      1.97      1026        94   \n",
       "2  1.14       0.28       -0.62      0.82      2.07      1026        94   \n",
       "3  1.24       0.53       -0.57      0.92      2.17      1026        95   \n",
       "4  1.61       0.90        0.07      1.52      1.90      1026        95   \n",
       "\n",
       "   wind_speed  wind_deg  clouds_all  weather_id weather_main  \\\n",
       "0        1.57       168          93         804       Clouds   \n",
       "1        1.21       163          95         804       Clouds   \n",
       "2        1.61       163          95         804       Clouds   \n",
       "3        1.66       163          95         804       Clouds   \n",
       "4        1.51       159          99         804       Clouds   \n",
       "\n",
       "  weather_description weather_icon        date      time  \n",
       "0     overcast clouds          04n  2000-01-01  00:00:00  \n",
       "1     overcast clouds          04n  2000-01-01  01:00:00  \n",
       "2     overcast clouds          04n  2000-01-01  02:00:00  \n",
       "3     overcast clouds          04n  2000-01-01  03:00:00  \n",
       "4     overcast clouds          04n  2000-01-01  04:00:00  "
      ]
     },
     "execution_count": 52,
     "metadata": {},
     "output_type": "execute_result"
    }
   ],
   "source": [
    "df.head()"
   ]
  },
  {
   "cell_type": "markdown",
   "metadata": {},
   "source": [
    "### Start Exploring"
   ]
  },
  {
   "cell_type": "code",
   "execution_count": null,
   "metadata": {},
   "outputs": [],
   "source": []
  }
 ],
 "metadata": {
  "interpreter": {
   "hash": "e1cb2243c2f91d5c6f9712f88638fd5d282134aad623abfac61acb9773b405fd"
  },
  "kernelspec": {
   "display_name": "Python 3.9.10 ('ai')",
   "language": "python",
   "name": "python3"
  },
  "language_info": {
   "codemirror_mode": {
    "name": "ipython",
    "version": 3
   },
   "file_extension": ".py",
   "mimetype": "text/x-python",
   "name": "python",
   "nbconvert_exporter": "python",
   "pygments_lexer": "ipython3",
   "version": "3.9.10"
  },
  "orig_nbformat": 4
 },
 "nbformat": 4,
 "nbformat_minor": 2
}
